{
 "cells": [
  {
   "cell_type": "code",
   "execution_count": 1,
   "metadata": {},
   "outputs": [],
   "source": [
    "import http.client\n",
    "\n",
    "def send_data_to_server(host, port, json_data):\n",
    "  try:\n",
    "    print(\"Init client \\n\")\n",
    "\n",
    "    conn = http.client.HTTPConnection(host, port, 30)\n",
    "    headers = {\"Content-Type\": \"application/json\"}  \n",
    "    conn.request(\"POST\", \"/db_init\")\n",
    "\n",
    "    response = conn.getresponse()\n",
    "    print(\"response.status: \", response.status)\n",
    "    if response.status == 200:\n",
    "        print(f\"Server response: {response.read().decode('utf-8')}\")\n",
    "    else:\n",
    "        print(f\"Error: Server returned status code {response.status}\")\n",
    "\n",
    "    conn.request(\"POST\", \"/blip_init\")\n",
    "    response = conn.getresponse()\n",
    "    print(\"response.status: \", response.status)\n",
    "    if response.status == 200:\n",
    "        print(f\"Server response: {response.read().decode('utf-8')}\")\n",
    "    else:\n",
    "        print(f\"Error: Server returned status code {response.status}\")\n",
    "\n",
    "    conn.request(\"POST\", \"/blip\", json_data, headers=headers)\n",
    "    response = conn.getresponse()\n",
    "    print(\"response.status: \", response.status)\n",
    "    if response.status == 200:\n",
    "        print(f\"Server response: {response.read().decode('utf-8')}\")\n",
    "    else:\n",
    "        print(f\"Error: Server returned status code {response.status}\")\n",
    "  finally:\n",
    "    conn.close()"
   ]
  },
  {
   "cell_type": "code",
   "execution_count": 5,
   "metadata": {},
   "outputs": [
    {
     "name": "stdout",
     "output_type": "stream",
     "text": [
      "{\"data\": [\"c:\\\\Users\\\\chuxd\\\\repos\\\\ovgenai_rag\\\\samples\\\\cpp\\\\rag_sample\\\\scripts\\\\demo.png\"]}\n"
     ]
    }
   ],
   "source": [
    "import os\n",
    "import json\n",
    "\n",
    "demo_image_path = os.path.abspath(\"demo.png\")\n",
    "payload = {\"data\": [demo_image_path]}  # Assuming sending chunks as JSON data\n",
    "json_data = json.dumps(payload)\n",
    "\n",
    "send_data_to_server(\"127.0.0.1\", 7890, json_data)"
   ]
  }
 ],
 "metadata": {
  "kernelspec": {
   "display_name": "ov_rag",
   "language": "python",
   "name": "python3"
  },
  "language_info": {
   "codemirror_mode": {
    "name": "ipython",
    "version": 3
   },
   "file_extension": ".py",
   "mimetype": "text/x-python",
   "name": "python",
   "nbconvert_exporter": "python",
   "pygments_lexer": "ipython3",
   "version": "3.11.9"
  }
 },
 "nbformat": 4,
 "nbformat_minor": 2
}
